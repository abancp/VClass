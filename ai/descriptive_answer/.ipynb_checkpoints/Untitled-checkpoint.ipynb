{
 "cells": [
  {
   "cell_type": "code",
   "execution_count": 14,
   "id": "ddd894b4-7241-4ceb-96ff-5f61029a3ab1",
   "metadata": {},
   "outputs": [],
   "source": [
    "import re\n",
    "import os"
   ]
  },
  {
   "cell_type": "code",
   "execution_count": null,
   "id": "ce926dd8-dd5c-4130-8417-6b4cdaa7f783",
   "metadata": {},
   "outputs": [],
   "source": [
    "from dotenv import load_dotenv\n",
    "import xgboost as xgb\n",
    "import pandas as pd\n",
    "from sentence_transformers import SentenceTransformer, util\n",
    "from transformers import pipeline"
   ]
  },
  {
   "cell_type": "code",
   "execution_count": 11,
   "id": "43e649bf-09d4-4616-9541-eaa31472fc39",
   "metadata": {},
   "outputs": [
    {
     "name": "stderr",
     "output_type": "stream",
     "text": [
      "The `xla_device` argument has been deprecated in v4.4.0 of Transformers. It is ignored and you can safely remove it from your `config.json` file.\n",
      "The `xla_device` argument has been deprecated in v4.4.0 of Transformers. It is ignored and you can safely remove it from your `config.json` file.\n",
      "The `xla_device` argument has been deprecated in v4.4.0 of Transformers. It is ignored and you can safely remove it from your `config.json` file.\n",
      "The `xla_device` argument has been deprecated in v4.4.0 of Transformers. It is ignored and you can safely remove it from your `config.json` file.\n",
      "The `xla_device` argument has been deprecated in v4.4.0 of Transformers. It is ignored and you can safely remove it from your `config.json` file.\n",
      "Device set to use cpu\n"
     ]
    }
   ],
   "source": [
    "s_model = SentenceTransformer('all-MiniLM-L6-v2')\n",
    "nli_model = pipeline(\"text-classification\", model=\"typeform/distilbert-base-uncased-mnli\")\n",
    "\n",
    "def preprocess_text(text):\n",
    "    text = text.strip().lower()\n",
    "    text = re.sub(r'\\s+', ' ', text)  # Replace multiple spaces with a single space\n",
    "    text = re.sub(r'\\n', ' ', text)   # Remove newlines\n",
    "   # text = text.translate(str.maketrans('', '', str.punctuation))  # Remove punctuation\n",
    "    return text\n",
    "\n",
    "def calculate_similarity(correct_answer, student_answer):\n",
    "    embeddings = s_model.encode([correct_answer, student_answer], convert_to_tensor=True)\n",
    "    similarity = util.pytorch_cos_sim(embeddings[0], embeddings[1])\n",
    "    return similarity.item() * 100 \n",
    "\n",
    "def check_contradiction(correct_answer, student_answer):\n",
    "    result = nli_model(f\"{correct_answer} [SEP] {student_answer}\")\n",
    "    label = result[0]['label'].lower()\n",
    "    label_mapping = {\n",
    "        \"entailment\": 0,\n",
    "        \"neutral\": 1,\n",
    "        \"contradiction\": 2\n",
    "    }\n",
    "\n",
    "    return label_mapping.get(label, -1) "
   ]
  },
  {
   "cell_type": "code",
   "execution_count": 15,
   "id": "890158ac-2a98-4790-bd31-41fb946f9ba5",
   "metadata": {},
   "outputs": [],
   "source": [
    "model = xgb.XGBRegressor()\n",
    "model.load_model(os.path.abspath(\"xgboost_model.json\"))"
   ]
  },
  {
   "cell_type": "code",
   "execution_count": 5,
   "id": "ab6f6859-645c-4a8a-a63c-3f3227d6d7f6",
   "metadata": {},
   "outputs": [],
   "source": [
    "def eval(correct,student):\n",
    "    correct = preprocess_text(correct)\n",
    "    student = preprocess_text(student)\n",
    "    sim = calculate_similarity(correct,student)\n",
    "    con = check_contradiction(correct,student)\n",
    "    print(sim,con)\n",
    "    new_data = pd.DataFrame({\n",
    "    \"similarity_score\": [sim],\n",
    "    \"contradiction_score\": [con]\n",
    "    })\n",
    "    predicted_score = model.predict(new_data)[0]\n",
    "    return predicted_score"
   ]
  },
  {
   "cell_type": "code",
   "execution_count": 22,
   "id": "8fad2287-4d60-42bf-a1c9-69659d890b37",
   "metadata": {},
   "outputs": [
    {
     "name": "stdout",
     "output_type": "stream",
     "text": [
      "66.80540442466736 2\n"
     ]
    },
    {
     "data": {
      "text/plain": [
       "0.46445698"
      ]
     },
     "execution_count": 22,
     "metadata": {},
     "output_type": "execute_result"
    }
   ],
   "source": [
    "correct = \"The Pythagorean theorem states that in a right-angled triangle, the square of the hypotenuse is equal to the sum of the squares of the other two sides\"\n",
    "student = \"The Pythagorean theorem is a mathematical concept used to calculate distances in geometry\"\n",
    "eval(correct,student)"
   ]
  },
  {
   "cell_type": "code",
   "execution_count": 23,
   "id": "69aa42e9-4380-4ddd-a9fa-d1f7791045d6",
   "metadata": {},
   "outputs": [],
   "source": [
    "corrects=[\n",
    "    \"Climate change is a pressing global issue caused by human activities like burning fossil fuels, deforestation, and industrial emissions\",\n",
    "    \"The Industrial Revolution marked a significant shift in manufacturing processes, leading to urbanization and technological advancements.\",\n",
    "    \"Shakespeare's plays, such as Hamlet and Macbeth, explore themes of power, ambition, and morality\",\n",
    "    \"Photosynthesis is the process by which plants convert sunlight into energy, producing oxygen as a byproduct.\",\n",
    "    \"The French Revolution was a period of radical social and political upheaval in France from 1789 to 1799\",\n",
    "    \"Artificial intelligence has the potential to revolutionize industries by automating tasks and improving efficiency\",\n",
    "    \"The Pythagorean theorem states that in a right-angled triangle, the square of the hypotenuse is equal to the sum of the squares of the other two sides\",\n",
    "    \"Newton's first law states that an object at rest stays at rest and an object in motion stays in motion unless acted upon by an external force.\",\n",
    "    \"The water cycle consists of processes like evaporation, condensation, precipitation, and collection.\",\n",
    "    \"The mitochondrion is known as the powerhouse of the cell because it generates ATP, the cell's energy currency.\",\n",
    "    \"The Renaissance was a cultural movement that led to advancements in art, science, and literature.\",\n",
    "    \"Ecosystems consist of biotic and abiotic components interacting in a dynamic system.\",\n",
    "    \"The Big Bang Theory suggests that the universe originated from a single point and has been expanding ever since.\",\n",
    "    \"World War II lasted from 1939 to 1945 and involved major world powers in a global conflict.\",\n",
    "    \"DNA carries genetic information and is composed of nucleotides arranged in a double helix structure.\",\n",
    "    \"The law of supply and demand states that the price of a good is determined by its availability and consumer desire.\",\n",
    "    \"The Great Wall of China was built to protect Chinese states from invasions and raids.\",\n",
    "    \"Electromagnetic waves include radio waves, microwaves, infrared, visible light, ultraviolet, X-rays, and gamma rays.\",\n",
    "    \"Gravity is the force that attracts two bodies toward each other, with its strength dependent on mass and distance.\",\n",
    "    \"The Earth's layers include the crust, mantle, outer core, and inner core.\",\n",
    "    \"In computing, an algorithm is a step-by-step set of instructions to perform a task.\",\n",
    "    \"The Treaty of Versailles officially ended World War I and imposed heavy penalties on Germany.\",\n",
    "    \"The periodic table arranges elements based on their atomic number and chemical properties.\",\n",
    "    \"The human circulatory system consists of the heart, blood, and blood vessels.\",\n",
    "    \"A hypothesis is a proposed explanation based on limited evidence, serving as a starting point for further investigation.\",\n",
    "    \"Renewable energy sources, such as solar and wind power, can be replenished naturally.\",\n",
    "    \"Democracy is a system of government where power is vested in the people through elected representatives.\",\n",
    "    \"The greenhouse effect is the process by which certain gases trap heat in the Earth's atmosphere.\",\n",
    "    \"The speed of light in a vacuum is approximately 299,792,458 meters per second.\",\n",
    "    \"Atoms consist of a nucleus containing protons and neutrons, surrounded by electrons in orbitals.\",\n",
    "    \"The Industrial Revolution led to significant economic growth but also poor working conditions and child labor.\",\n",
    "    \"The human nervous system is divided into the central nervous system and the peripheral nervous system.\",\n",
    "    \"World War I began in 1914 and was triggered by the assassination of Archduke Franz Ferdinand.\",\n",
    "    \"The boiling point of water at sea level is 100 degrees Celsius (212 degrees Fahrenheit).\",\n",
    "    \"Photosynthesis takes place in the chloroplasts of plant cells and requires sunlight, water, and carbon dioxide.\",\n",
    "    \"Black holes are regions in space where gravity is so strong that nothing, not even light, can escape.\",\n",
    "    \"Plastics are made from polymers, which are long chains of repeating molecules.\"\n",
    "]\n",
    "students=[\n",
    "    \"Climate change is a natural phenomenon that has occurred throughout Earth's history, and human activities have little impact on it\",\n",
    "    \"The Industrial Revolution was a period when people started using machines to produce goods, which changed how societies functioned.\",\n",
    "    \"Shakespeare wrote many plays, but I don't think they are relevant to modern audiences\",\n",
    "    \"Photosynthesis is how plants make food, but I'm not sure how it works exactly\",\n",
    "    \"The French Revolution was a peaceful transition of power from the monarchy to the people\",\n",
    "    \"Artificial intelligence is a threat to humanity and will lead to widespread job loss.\",\n",
    "    \"The Pythagorean theorem is a mathematical concept used to calculate distances in geometry\",\n",
    "    \"Newton's first law says that all objects will eventually stop moving unless a force keeps pushing them.\",\n",
    "    \"The water cycle happens when the oceans dry up and then refill during rainstorms.\",\n",
    "    \"The mitochondria help plants perform photosynthesis by absorbing sunlight.\",\n",
    "    \"The Renaissance was a time when people invented the Internet and modern technology.\",\n",
    "    \"Ecosystems are only made up of animals, and plants do not play a role in them.\",\n",
    "    \"The Big Bang Theory is a TV show about scientists who work at a university.\",\n",
    "    \"World War II was a small conflict between a few countries that lasted only a year.\",\n",
    "    \"DNA is just a random sequence of letters that scientists use for experiments.\",\n",
    "    \"The law of supply and demand states that the more something costs, the more people will want to buy it.\",\n",
    "    \"The Great Wall of China was built in a single year using only wood and rope.\",\n",
    "    \"Electromagnetic waves are only used in microwave ovens and cell phones.\",\n",
    "    \"Gravity only works on Earth, and in space, there is no gravity at all.\",\n",
    "    \"The Earth's layers are all made of the same material and have no distinct features.\",\n",
    "    \"In computing, an algorithm is just a complicated way of saying ‘a list of things to do.’\",\n",
    "    \"The Treaty of Versailles was an agreement that started World War I.\",\n",
    "    \"The periodic table is a chart used to predict the future based on an element’s position.\",\n",
    "    \"The human circulatory system is just the heart pumping blood, and veins do nothing important.\",\n",
    "    \"A hypothesis is a proven scientific fact that can never be wrong.\",\n",
    "    \"Renewable energy comes from nuclear power plants because they generate a lot of energy.\",\n",
    "    \"Democracy is when a king or queen makes all the important decisions for a country.\",\n",
    "    \"The greenhouse effect is when green plants make the air warmer by releasing oxygen.\",\n",
    "    \"The speed of light changes depending on how bright the sun is.\",\n",
    "    \"Atoms are the smallest things in the world, and they cannot be split into smaller parts.\",\n",
    "    \"The Industrial Revolution happened when people started using modern computers in factories.\",\n",
    "    \"The human nervous system is just the brain and has nothing to do with the rest of the body.\",\n",
    "    \"World War I was caused by a disagreement over how to build better roads in Europe.\",\n",
    "    \"The boiling point of water depends only on what color the container is.\",\n",
    "    \"Photosynthesis is when plants eat insects to get nutrients for growth.\",\n",
    "    \"Black holes are giant black rocks floating in space.\",\n",
    "    \"Plastics are natural materials found in trees and plants.\"\n",
    "])\n",
    "]\n",
    "scores=[0,70,0,5,0,0,30,50, 30,20,  # Mitochondria: Wrong function, as mitochondria do not help in photosynthesis.\n",
    "    10,  # Renaissance: Completely incorrect; internet was not invented in this period.\n",
    "    25,  # Ecosystems: Incorrect, as plants play a major role.\n",
    "    5,   # Big Bang Theory: Completely unrelated (refers to a TV show).\n",
    "    15,  # WWII: Incorrect timeline and scope (was not a small conflict).\n",
    "    5,   # DNA: Completely incorrect; DNA is not just random letters.\n",
    "    10,  # Supply & demand: Misinterprets economic principles.\n",
    "    10,  # Great Wall of China: Incorrect facts.\n",
    "    20,  # Electromagnetic waves: Partially correct but overly simplified.\n",
    "    5,   # Gravity: Incorrect (gravity exists in space).\n",
    "    10,  # Earth’s layers: Incorrect, as layers have distinct features.\n",
    "    40,  # Algorithm: Somewhat correct but oversimplified.\n",
    "    10,  # Treaty of Versailles: Incorrect; it ended WWI, not started it.\n",
    "    10,  # Periodic table: Incorrect; does not predict the future.\n",
    "    20,  # Circulatory system: Incorrect; veins have an important function.\n",
    "    5,   # Hypothesis: Incorrect, as hypotheses can be proven wrong.\n",
    "    5,   # Renewable energy: Incorrect, as nuclear power is not renewable.\n",
    "    5,   # Democracy: Incorrect; democracy is not a monarchy.\n",
    "    10,  # Greenhouse effect: Incorrect; plants releasing oxygen is unrelated.\n",
    "    5,   # Speed of light: Incorrect; it does not change with sunlight.\n",
    "    5,   # Atoms: Incorrect; atoms can be split.\n",
    "    5,   # Industrial Revolution: Incorrect, as computers were not involved.\n",
    "    5,   # Nervous system: Incorrect; involves more than just the brain.\n",
    "    10,  # WWI: Incorrect cause.\n",
    "    5,   # Boiling point of water: Incorrect, as color does not matter.\n",
    "    5,   # Photosynthesis: Incorrect; plants do not eat insects.\n",
    "    5,   # Black holes: Incorrect; they are not floating rocks.\n",
    "    5    # Plastics: Incorrect; they are synthetic, not naturally found.\n",
    "]\n"
   ]
  }
 ],
 "metadata": {
  "kernelspec": {
   "display_name": "Python 3 (ipykernel)",
   "language": "python",
   "name": "python3"
  },
  "language_info": {
   "codemirror_mode": {
    "name": "ipython",
    "version": 3
   },
   "file_extension": ".py",
   "mimetype": "text/x-python",
   "name": "python",
   "nbconvert_exporter": "python",
   "pygments_lexer": "ipython3",
   "version": "3.12.3"
  }
 },
 "nbformat": 4,
 "nbformat_minor": 5
}
